{
 "cells": [
  {
   "cell_type": "code",
   "execution_count": 2,
   "metadata": {},
   "outputs": [],
   "source": [
    "import os\n",
    "from getpass import getpass\n",
    "from dotenv import load_dotenv\n",
    "\n",
    "\n",
    "load_dotenv(\"../.env\")\n",
    "\n",
    "def _getpass(env_var: str):\n",
    "    if not os.environ.get(env_var):\n",
    "        os.environ[env_var] = getpass(f\"{env_var}=\")\n",
    "\n",
    "\n",
    "_getpass(\"OPENAI_API_KEY\")\n",
    "_getpass(\"SERPAPI_API_KEY\")\n",
    "_getpass(\"JINA_API_KEY\")"
   ]
  },
  {
   "cell_type": "code",
   "execution_count": 3,
   "metadata": {},
   "outputs": [
    {
     "name": "stdout",
     "output_type": "stream",
     "text": [
      "7d8be0aa3492e44280d675d57a8a9ee45aa06de94550d30c84b76352c2db75f1\n"
     ]
    }
   ],
   "source": [
    "from research_graph import create_research_graph\n",
    "\n",
    "compiled_graph = create_research_graph()\n",
    "\n",
    "initial_state = {\n",
    "        \"user_query\": \"What are the latest breakthroughs in quantum computing?\",\n",
    "        \"aggregated_contexts\": [],\n",
    "        \"all_search_queries\": []\n",
    "    }\n",
    "\n",
    "\n",
    "final_state = compiled_graph.run(initial_state)\n",
    "print(\"Workflow complete. Final report:\", final_state.get(\"final_report\"))\n"
   ]
  }
 ],
 "metadata": {
  "kernelspec": {
   "display_name": ".venv",
   "language": "python",
   "name": "python3"
  },
  "language_info": {
   "codemirror_mode": {
    "name": "ipython",
    "version": 3
   },
   "file_extension": ".py",
   "mimetype": "text/x-python",
   "name": "python",
   "nbconvert_exporter": "python",
   "pygments_lexer": "ipython3",
   "version": "3.13.1"
  }
 },
 "nbformat": 4,
 "nbformat_minor": 2
}
