{
 "cells": [
  {
   "cell_type": "code",
   "execution_count": 5,
   "metadata": {},
   "outputs": [
    {
     "name": "stderr",
     "output_type": "stream",
     "text": [
      "UsageError: %%capture is a cell magic, but the cell body is empty.\n"
     ]
    }
   ],
   "source": []
  },
  {
   "cell_type": "code",
   "execution_count": 1,
   "metadata": {},
   "outputs": [],
   "source": [
    "\n",
    "\n",
    "import os\n",
    "from getpass import getpass\n",
    "\n",
    "\n",
    "def _getpass(env_var: str):\n",
    "    if not os.environ.get(env_var):\n",
    "        os.environ[env_var] = getpass(f\"{env_var}=\")\n",
    "\n",
    "\n",
    "_getpass(\"OPENAI_API_KEY\")\n",
    "\n"
   ]
  },
  {
   "cell_type": "code",
   "execution_count": 29,
   "metadata": {},
   "outputs": [
    {
     "data": {
      "text/plain": [
       "'https://www.google.com/maps/place/Blubber+Bar/data=!4m7!3m6!1s0x47a62feb7701f637:0xf37327515dab0963!8m2!3d51.8741938!4d12.6628238!16s%2Fg%2F11fnx7cv6v!19sChIJN_YBd-svpkcRYwmrXVEnc_M?authuser=0&hl=en&rclk=1'"
      ]
     },
     "execution_count": 29,
     "metadata": {},
     "output_type": "execute_result"
    }
   ],
   "source": [
    "# Load businesses from csv file with pandas.\n",
    "\n",
    "import pandas as pd\n",
    "import json\n",
    "\n",
    "df = pd.read_csv('dummy_data.csv')\n",
    "\n",
    "# Get the reviews of the business in first row.\n",
    "# Parse the reviews json string into a list of reviews.\n",
    "reviews_string = df.iloc[0]['user_reviews']\n",
    "\n",
    "parsed = json.loads(reviews_string)\n",
    "\n",
    "parsed[0]\n",
    "df.iloc[0][\"link\"]"
   ]
  },
  {
   "cell_type": "code",
   "execution_count": null,
   "metadata": {},
   "outputs": [],
   "source": []
  },
  {
   "cell_type": "code",
   "execution_count": null,
   "metadata": {},
   "outputs": [],
   "source": []
  },
  {
   "cell_type": "markdown",
   "metadata": {},
   "source": [
    "### Create a simple version that devises a plan just based on reviews.\n",
    "\n",
    "\n",
    "# Notes on prompt engineering\n",
    "- Keep an eye on if the domain points to a facebook site and the establishment thus might not have its own webpage.\n",
    "-"
   ]
  },
  {
   "cell_type": "code",
   "execution_count": 2,
   "metadata": {},
   "outputs": [],
   "source": [
    "from typing import List\n",
    "from typing_extensions import TypedDict\n",
    "\n",
    "class Review(TypedDict):\n",
    "    \"\"\"\n",
    "    Represents a google business review\n",
    "\n",
    "    Attributes:\n",
    "        author_name : Name of the author\n",
    "        rating : Rating of the review\n",
    "        text : Text of the review\n",
    "        time : Date of the review\n",
    "    \"\"\"\n",
    "    author_name: str\n",
    "    rating: int\n",
    "    text: str\n",
    "    time: str\n",
    "\n",
    "\n",
    "class GraphState(TypedDict):\n",
    "    \"\"\"\n",
    "    Represents the state of our graph.\n",
    "\n",
    "    Attributes:\n",
    "´        messages : With user question, error messages, reasoning\n",
    "        iterations : Number of tries\n",
    "    \"\"\"\n",
    "\n",
    "    reviews: List[Review]\n",
    "    messages: List\n",
    "    iterations: int"
   ]
  },
  {
   "cell_type": "code",
   "execution_count": 11,
   "metadata": {},
   "outputs": [],
   "source": [
    "import os\n",
    "from langchain.llms import OpenAI\n",
    "from langchain.chains import LLMChain\n",
    "from langchain.prompts import PromptTemplate\n",
    "from langchain.output_parsers import PydanticOutputParser\n",
    "from pydantic import BaseModel, Field\n",
    "from typing import List\n",
    "\n",
    "\n",
    "\n",
    "class Review(BaseModel):\n",
    "    reviewer: str = Field(description=\"Name of the reviewer\")\n",
    "    rating: float = Field(description=\"Rating given by the reviewer\")\n",
    "    comment: str = Field(description=\"Comment provided by the reviewer\")\n",
    "\n",
    "class Insight(BaseModel):\n",
    "    insight: str = Field(description=\"Insight derived from the review\")\n",
    "    anomaly: bool = Field(description=\"Indicates if the insight is an anomaly\")\n",
    "\n",
    "class Insights(BaseModel):\n",
    "    insights: List[Insight] = Field(description=\"List of insights derived from the reviews\")\n",
    "\n",
    "# Create an output parser for the Insight schema\n",
    "output_parser = PydanticOutputParser(pydantic_object=Insights)\n",
    "\n",
    "# Define the prompt template\n",
    "prompt_template = PromptTemplate(\n",
    "    template=\"\"\"\n",
    "    Given the following list of Google reviews for a business:\n",
    "\n",
    "    {reviews}\n",
    "\n",
    "    Generate a list of insights that will be used to determine what type of software services the business might require. Note any anomalies.\n",
    "\n",
    "    {format_instructions}\n",
    "    \"\"\",\n",
    "    input_variables=[\"reviews\"],\n",
    "    partial_variables={\"format_instructions\": output_parser.get_format_instructions()},\n",
    ")\n",
    "\n",
    "# Initialize the OpenAI LLM\n",
    "llm = OpenAI(model=\"gpt-4o-mini\")\n",
    "\n",
    "# Create an LLMChain with the output parser\n",
    "chain = prompt_template | llm | output_parser\n",
    "#chain = LLMChain(llm=llm, prompt=prompt_template, output_parser=output_parser)\n"
   ]
  },
  {
   "cell_type": "code",
   "execution_count": null,
   "metadata": {},
   "outputs": [
    {
     "ename": "TypeError",
     "evalue": "'NoneType' object is not subscriptable",
     "output_type": "error",
     "traceback": [
      "\u001b[0;31m---------------------------------------------------------------------------\u001b[0m",
      "\u001b[0;31mTypeError\u001b[0m                                 Traceback (most recent call last)",
      "Cell \u001b[0;32mIn[14], line 57\u001b[0m\n\u001b[1;32m     30\u001b[0m     \u001b[38;5;28mprint\u001b[39m(insights)\n\u001b[1;32m     33\u001b[0m graph_state \u001b[38;5;241m=\u001b[39m {\n\u001b[1;32m     34\u001b[0m     \u001b[38;5;124m\"\u001b[39m\u001b[38;5;124mreviews\u001b[39m\u001b[38;5;124m\"\u001b[39m: [\n\u001b[1;32m     35\u001b[0m         {\n\u001b[0;32m   (...)\u001b[0m\n\u001b[1;32m     55\u001b[0m     \u001b[38;5;124m\"\u001b[39m\u001b[38;5;124miterations\u001b[39m\u001b[38;5;124m\"\u001b[39m: \u001b[38;5;241m0\u001b[39m\n\u001b[1;32m     56\u001b[0m }\n\u001b[0;32m---> 57\u001b[0m \u001b[43minitial_scan\u001b[49m\u001b[43m(\u001b[49m\u001b[43mgraph_state\u001b[49m\u001b[43m)\u001b[49m\n",
      "Cell \u001b[0;32mIn[14], line 12\u001b[0m, in \u001b[0;36minitial_scan\u001b[0;34m(state)\u001b[0m\n\u001b[1;32m     10\u001b[0m \u001b[38;5;66;03m# Filter reviews. If there are more than 100, only process the 100 newest.\u001b[39;00m\n\u001b[1;32m     11\u001b[0m chronological_sort \u001b[38;5;241m=\u001b[39m state[\u001b[38;5;124m'\u001b[39m\u001b[38;5;124mreviews\u001b[39m\u001b[38;5;124m'\u001b[39m]\u001b[38;5;241m.\u001b[39msort(key\u001b[38;5;241m=\u001b[39m\u001b[38;5;28;01mlambda\u001b[39;00m x: x[\u001b[38;5;124m'\u001b[39m\u001b[38;5;124mtime\u001b[39m\u001b[38;5;124m'\u001b[39m], reverse\u001b[38;5;241m=\u001b[39m\u001b[38;5;28;01mTrue\u001b[39;00m)\n\u001b[0;32m---> 12\u001b[0m filtered_reviews \u001b[38;5;241m=\u001b[39m \u001b[43mchronological_sort\u001b[49m\u001b[43m[\u001b[49m\u001b[43m:\u001b[49m\u001b[38;5;241;43m100\u001b[39;49m\u001b[43m]\u001b[49m\n\u001b[1;32m     14\u001b[0m \u001b[38;5;66;03m# Example list of reviews\u001b[39;00m\n\u001b[1;32m     15\u001b[0m reviews \u001b[38;5;241m=\u001b[39m [\n\u001b[1;32m     16\u001b[0m     Review(reviewer\u001b[38;5;241m=\u001b[39m\u001b[38;5;124m\"\u001b[39m\u001b[38;5;124mJohn Doe\u001b[39m\u001b[38;5;124m\"\u001b[39m, rating\u001b[38;5;241m=\u001b[39m\u001b[38;5;241m4.5\u001b[39m, comment\u001b[38;5;241m=\u001b[39m\u001b[38;5;124m\"\u001b[39m\u001b[38;5;124mGreat service and friendly staff.\u001b[39m\u001b[38;5;124m\"\u001b[39m),\n\u001b[1;32m     17\u001b[0m     Review(reviewer\u001b[38;5;241m=\u001b[39m\u001b[38;5;124m\"\u001b[39m\u001b[38;5;124mJane Smith\u001b[39m\u001b[38;5;124m\"\u001b[39m, rating\u001b[38;5;241m=\u001b[39m\u001b[38;5;241m3.0\u001b[39m, comment\u001b[38;5;241m=\u001b[39m\u001b[38;5;124m\"\u001b[39m\u001b[38;5;124mAverage experience, could be better.\u001b[39m\u001b[38;5;124m\"\u001b[39m),\n\u001b[1;32m     18\u001b[0m     Review(reviewer\u001b[38;5;241m=\u001b[39m\u001b[38;5;124m\"\u001b[39m\u001b[38;5;124mAlice Johnson\u001b[39m\u001b[38;5;124m\"\u001b[39m, rating\u001b[38;5;241m=\u001b[39m\u001b[38;5;241m5.0\u001b[39m, comment\u001b[38;5;241m=\u001b[39m\u001b[38;5;124m\"\u001b[39m\u001b[38;5;124mExcellent! Highly recommend.\u001b[39m\u001b[38;5;124m\"\u001b[39m),\n\u001b[1;32m     19\u001b[0m ]\n",
      "\u001b[0;31mTypeError\u001b[0m: 'NoneType' object is not subscriptable"
     ]
    }
   ],
   "source": [
    "from langchain.llms import OpenAI\n",
    "from langchain.chains import LLMChain\n",
    "from langchain.prompts import PromptTemplate\n",
    "\n",
    "def initial_scan(state: GraphState):\n",
    "    \"\"\"\n",
    "    In the initial scan we get all the info by running the review analysis, webpage analysis, business analysis.\n",
    "    \"\"\"\n",
    "\n",
    "    # Filter reviews. If there are more than 100, only process the 100 newest.\n",
    "    chronological_sort = state['reviews'].sort(key=lambda x: x['time'], reverse=True)\n",
    "    \n",
    "    filtered_reviews = chronological_sort[:100]\n",
    "\n",
    "    # Example list of reviews\n",
    "    reviews = [\n",
    "        Review(reviewer=\"John Doe\", rating=4.5, comment=\"Great service and friendly staff.\"),\n",
    "        Review(reviewer=\"Jane Smith\", rating=3.0, comment=\"Average experience, could be better.\"),\n",
    "        Review(reviewer=\"Alice Johnson\", rating=5.0, comment=\"Excellent! Highly recommend.\"),\n",
    "    ]\n",
    "\n",
    "    # Convert reviews to string format for the prompt\n",
    "    reviews_str = \"\\n\".join([f\"Reviewer: {review.reviewer}, Rating: {review.rating}, Comment: {review.comment}\" for review in reviews])\n",
    "\n",
    "    # Use the chain to generate insights\n",
    "    response = chain.run(reviews=reviews_str)\n",
    "\n",
    "    # Parse the response into structured data\n",
    "    insights = output_parser.parse(response)\n",
    "\n",
    "    print(insights)\n",
    "\n",
    "\n",
    "graph_state = {\n",
    "    \"reviews\": [\n",
    "        {\n",
    "            \"author_name\": \"John Doe\",\n",
    "            \"rating\": 4.5,\n",
    "            \"text\": \"Great service and friendly staff.\",\n",
    "            \"time\": \"2022-01-01\"\n",
    "        },\n",
    "        {\n",
    "            \"author_name\": \"Jane Smith\",\n",
    "            \"rating\": 3.0,\n",
    "            \"text\": \"Average experience, could be better.\",\n",
    "            \"time\": \"2022-01-02\"\n",
    "        },\n",
    "        {\n",
    "            \"author_name\": \"Alice Johnson\",\n",
    "            \"rating\": 5.0,\n",
    "            \"text\": \"Excellent! Highly recommend.\",\n",
    "            \"time\": \"2022-01-03\"\n",
    "        }\n",
    "    ],\n",
    "    \"messages\": [],\n",
    "    \"iterations\": 0\n",
    "}\n",
    "initial_scan(graph_state)\n"
   ]
  },
  {
   "cell_type": "code",
   "execution_count": null,
   "metadata": {},
   "outputs": [],
   "source": [
    "from langgraph.graph import END, StateGraph, START\n",
    "\n",
    "workflow = StateGraph(GraphState)\n",
    "\n",
    "# Define the nodes\n",
    "workflow.add_node(\"generate\", generate)  # generation solution\n",
    "workflow.add_node(\"check_code\", code_check)  # check code\n",
    "workflow.add_node(\"reflect\", reflect)  # reflect\n",
    "\n",
    "# Build graph\n",
    "workflow.add_edge(START, \"generate\")\n",
    "workflow.add_edge(\"generate\", \"check_code\")\n",
    "workflow.add_conditional_edges(\n",
    "    \"check_code\",\n",
    "    decide_to_finish,\n",
    "    {\n",
    "        \"end\": END,\n",
    "        \"reflect\": \"reflect\",\n",
    "        \"generate\": \"generate\",\n",
    "    },\n",
    ")\n",
    "workflow.add_edge(\"reflect\", \"generate\")\n",
    "app = workflow.compile()"
   ]
  }
 ],
 "metadata": {
  "kernelspec": {
   "display_name": ".venv",
   "language": "python",
   "name": "python3"
  },
  "language_info": {
   "codemirror_mode": {
    "name": "ipython",
    "version": 3
   },
   "file_extension": ".py",
   "mimetype": "text/x-python",
   "name": "python",
   "nbconvert_exporter": "python",
   "pygments_lexer": "ipython3",
   "version": "3.13.1"
  }
 },
 "nbformat": 4,
 "nbformat_minor": 2
}
